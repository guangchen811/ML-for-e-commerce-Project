{
 "cells": [
  {
   "cell_type": "code",
   "execution_count": 2,
   "metadata": {},
   "outputs": [],
   "source": [
    "import torch\n",
    "import torch.nn as nn\n",
    "import torch.optim as optim\n",
    "\n",
    "# Model definition\n",
    "class LogisticRegressionModel(nn.Module):\n",
    "    def __init__(self, input_dim):\n",
    "        super(LogisticRegressionModel, self).__init__()\n",
    "        self.linear = nn.Linear(input_dim, 1)\n",
    "\n",
    "    def forward(self, x):\n",
    "        outputs = torch.sigmoid(self.linear(x))\n",
    "        return outputs"
   ]
  },
  {
   "cell_type": "code",
   "execution_count": 62,
   "metadata": {},
   "outputs": [],
   "source": [
    "import pandas as pd\n",
    "\n",
    "data_path = \"./dataset\"\n",
    "products_data_list = [\n",
    "    pd.read_csv(f\"{data_path}/products-data-{i}.tsv\", sep=\"\\t\", header=None, names=[\"id\", \"category\", \"product_title\"])\n",
    "    for i in range(1, 4)\n",
    "]\n",
    "products_data = pd.concat(products_data_list, ignore_index=True)\n",
    "reviews_data_list = [\n",
    "    pd.read_csv(f\"{data_path}/reviews-{i}.tsv\", sep=\"\\t\", header=None, names=[\"id\", \"rating\", \"review_text\"])\n",
    "    if i != 2\n",
    "    else pd.read_csv(f\"{data_path}/reviews-{i}.tsv\", sep=\"\\t\", header=None, names=[\"rating\", \"id\", \"review_text\"])\n",
    "    for i in range(1, 4)\n",
    "]\n",
    "reviews_data = pd.concat(reviews_data_list, ignore_index=True)"
   ]
  },
  {
   "cell_type": "code",
   "execution_count": 72,
   "metadata": {},
   "outputs": [],
   "source": [
    "merged_data = pd.merge(products_data, reviews_data, on=\"id\", how=\"inner\", validate=\"one_to_many\")"
   ]
  },
  {
   "cell_type": "code",
   "execution_count": 93,
   "metadata": {},
   "outputs": [],
   "source": [
    "from sklearn.feature_extraction.text import CountVectorizer\n",
    "\n",
    "def encode(text_data):\n",
    "    vectorizer = CountVectorizer()\n",
    "    vectorizer.fit(text_data)\n",
    "    vector = vectorizer.transform(text_data)\n",
    "    return vector.toarray()"
   ]
  },
  {
   "cell_type": "code",
   "execution_count": 128,
   "metadata": {},
   "outputs": [],
   "source": [
    "merged_data['encoded_review_text'] = encode(merged_data['review_text'].to_list()).tolist()\n",
    "merged_data['encoded_product_title'] = encode(merged_data['product_title'].to_list()).tolist()\n",
    "# encode category into 0 1. 0 for Kitchen, 1 for Jewlery\n",
    "merged_data['encoded_category'] = merged_data['category'].apply(lambda x: 0 if x == 'Kitchen' else 1)"
   ]
  },
  {
   "cell_type": "code",
   "execution_count": 135,
   "metadata": {},
   "outputs": [],
   "source": [
    "merged_data['input_features'] = merged_data.apply(lambda x: x['encoded_review_text'] + x['encoded_product_title'] + [x['rating']], axis=1)"
   ]
  },
  {
   "cell_type": "code",
   "execution_count": 136,
   "metadata": {},
   "outputs": [],
   "source": [
    "# dataset split\n",
    "from sklearn.model_selection import train_test_split\n",
    "\n",
    "X_train, X_test, y_train, y_test = train_test_split(\n",
    "    merged_data[['input_features']],\n",
    "    merged_data['encoded_category'],\n",
    "    test_size=0.2,\n",
    "    random_state=42\n",
    ")"
   ]
  },
  {
   "cell_type": "code",
   "execution_count": 138,
   "metadata": {},
   "outputs": [],
   "source": [
    "# convert to tensor\n",
    "X_train = torch.tensor(X_train['input_features'].to_list(), dtype=torch.float)\n",
    "y_train = torch.tensor(y_train.to_list(), dtype=torch.float)\n",
    "X_test = torch.tensor(X_test['input_features'].to_list(), dtype=torch.float)\n",
    "y_test = torch.tensor(y_test.to_list(), dtype=torch.float)"
   ]
  },
  {
   "cell_type": "code",
   "execution_count": 139,
   "metadata": {},
   "outputs": [],
   "source": [
    "# train\n",
    "from torch.utils.data import TensorDataset, DataLoader\n",
    "\n",
    "train_dataset = TensorDataset(X_train, y_train)\n",
    "train_dataloader = DataLoader(train_dataset, batch_size=32, shuffle=True)"
   ]
  },
  {
   "cell_type": "code",
   "execution_count": 169,
   "metadata": {},
   "outputs": [
    {
     "name": "stdout",
     "output_type": "stream",
     "text": [
      "Accuracy of the model on the test set: 62.15%\n",
      "Accuracy of the model on the test set: 63.35%\n",
      "Accuracy of the model on the test set: 65.34%\n",
      "Accuracy of the model on the test set: 66.14%\n",
      "Accuracy of the model on the test set: 68.13%\n",
      "Accuracy of the model on the test set: 68.92%\n",
      "Accuracy of the model on the test set: 71.31%\n",
      "Accuracy of the model on the test set: 72.91%\n",
      "Accuracy of the model on the test set: 73.71%\n",
      "Accuracy of the model on the test set: 75.70%\n",
      "Accuracy of the model on the test set: 76.49%\n",
      "Accuracy of the model on the test set: 77.69%\n",
      "Accuracy of the model on the test set: 78.88%\n",
      "Accuracy of the model on the test set: 80.48%\n",
      "Accuracy of the model on the test set: 79.68%\n",
      "Accuracy of the model on the test set: 80.48%\n",
      "Accuracy of the model on the test set: 80.88%\n",
      "Accuracy of the model on the test set: 80.88%\n",
      "Accuracy of the model on the test set: 81.27%\n",
      "Accuracy of the model on the test set: 82.07%\n",
      "Accuracy of the model on the test set: 82.07%\n",
      "Accuracy of the model on the test set: 82.07%\n",
      "Accuracy of the model on the test set: 82.07%\n",
      "Accuracy of the model on the test set: 82.07%\n",
      "Accuracy of the model on the test set: 82.07%\n",
      "Accuracy of the model on the test set: 82.47%\n",
      "Accuracy of the model on the test set: 82.47%\n",
      "Accuracy of the model on the test set: 83.27%\n",
      "Accuracy of the model on the test set: 83.27%\n",
      "Accuracy of the model on the test set: 83.27%\n",
      "Accuracy of the model on the test set: 82.87%\n",
      "Accuracy of the model on the test set: 82.87%\n",
      "Accuracy of the model on the test set: 82.47%\n"
     ]
    }
   ],
   "source": [
    "from tqdm import tqdm\n",
    "\n",
    "# Instantiate the model\n",
    "model = LogisticRegressionModel(input_dim=X_train.size(1))\n",
    "\n",
    "# Loss and optimizer\n",
    "criterion = nn.BCELoss()\n",
    "optimizer = optim.SGD(model.parameters(), lr=0.001)\n",
    "\n",
    "# Train the model\n",
    "total_step = len(train_dataloader)\n",
    "num_epochs = 1000\n",
    "for epoch in range(num_epochs):\n",
    "    for i, (features, labels) in enumerate(train_dataloader):\n",
    "        # Forward pass\n",
    "        outputs = model(features)\n",
    "        loss = criterion(outputs, labels.unsqueeze(1))\n",
    "\n",
    "        # Backward and optimize\n",
    "        optimizer.zero_grad()\n",
    "        loss.backward()\n",
    "        optimizer.step()\n",
    "    if (epoch + 1) % 30 == 0:\n",
    "        # Test the model\n",
    "        with torch.no_grad():\n",
    "            outputs = model(X_test)\n",
    "            predicted = outputs.round().squeeze(1)\n",
    "            correct = (predicted == y_test).sum().item()\n",
    "            print(f'Accuracy of the model on the test set: {correct / y_test.size(0) * 100:.2f}%')"
   ]
  }
 ],
 "metadata": {
  "kernelspec": {
   "display_name": "torchm1",
   "language": "python",
   "name": "python3"
  },
  "language_info": {
   "codemirror_mode": {
    "name": "ipython",
    "version": 3
   },
   "file_extension": ".py",
   "mimetype": "text/x-python",
   "name": "python",
   "nbconvert_exporter": "python",
   "pygments_lexer": "ipython3",
   "version": "3.8.12"
  }
 },
 "nbformat": 4,
 "nbformat_minor": 2
}
