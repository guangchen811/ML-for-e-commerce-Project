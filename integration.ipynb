{
 "cells": [
  {
   "cell_type": "markdown",
   "metadata": {},
   "source": [
    "# Data Analysis"
   ]
  },
  {
   "cell_type": "markdown",
   "metadata": {},
   "source": [
    "This notebook is the analysis of the training data. It is used to understand the data."
   ]
  },
  {
   "cell_type": "markdown",
   "metadata": {},
   "source": [
    "## Data Loading"
   ]
  },
  {
   "cell_type": "code",
   "execution_count": 1,
   "metadata": {},
   "outputs": [],
   "source": [
    "# I prefer to use pandas to analyze data\n",
    "import pandas as pd"
   ]
  },
  {
   "cell_type": "code",
   "execution_count": 2,
   "metadata": {},
   "outputs": [],
   "source": [
    "# I have downloaded the dataset and put it in the folder \"dataset\".\n",
    "data_path = \"./raw_data\"\n",
    "\n",
    "products_data_list = [\n",
    "    pd.read_csv(f\"{data_path}/products-data-{i}.tsv\", sep=\"\\t\", header=None, names=[\"id\", \"category\", \"product_title\"])\n",
    "    for i in range(1, 4)\n",
    "]\n",
    "products_data = pd.concat(products_data_list, ignore_index=True)\n",
    "\n",
    "# reviews-data-2.tsv has a different column order, so I have to handle it separately.\n",
    "reviews_data_list = [\n",
    "    pd.read_csv(f\"{data_path}/reviews-{i}.tsv\", sep=\"\\t\", header=None, names=[\"id\", \"rating\", \"review_text\"])\n",
    "    if i != 2\n",
    "    else pd.read_csv(f\"{data_path}/reviews-{i}.tsv\", sep=\"\\t\", header=None, names=[\"rating\", \"id\", \"review_text\"])\n",
    "    for i in range(1, 4)\n",
    "]\n",
    "reviews_data = pd.concat(reviews_data_list, ignore_index=True)"
   ]
  },
  {
   "cell_type": "markdown",
   "metadata": {},
   "source": [
    "I have a first look at the data by printing the first 3 rows of each table."
   ]
  },
  {
   "cell_type": "code",
   "execution_count": 3,
   "metadata": {},
   "outputs": [
    {
     "data": {
      "text/html": [
       "<div>\n",
       "<style scoped>\n",
       "    .dataframe tbody tr th:only-of-type {\n",
       "        vertical-align: middle;\n",
       "    }\n",
       "\n",
       "    .dataframe tbody tr th {\n",
       "        vertical-align: top;\n",
       "    }\n",
       "\n",
       "    .dataframe thead th {\n",
       "        text-align: right;\n",
       "    }\n",
       "</style>\n",
       "<table border=\"1\" class=\"dataframe\">\n",
       "  <thead>\n",
       "    <tr style=\"text-align: right;\">\n",
       "      <th></th>\n",
       "      <th>id</th>\n",
       "      <th>category</th>\n",
       "      <th>product_title</th>\n",
       "    </tr>\n",
       "  </thead>\n",
       "  <tbody>\n",
       "    <tr>\n",
       "      <th>0</th>\n",
       "      <td>d242fdc9-772b-4d97-94bb-dabdec22ebe7</td>\n",
       "      <td>Kitchen</td>\n",
       "      <td>iCooker® Amazing Happy Birthday Candles + FREE...</td>\n",
       "    </tr>\n",
       "    <tr>\n",
       "      <th>1</th>\n",
       "      <td>05d4b845-1772-4f02-8dcc-b0ef4c1e06f8</td>\n",
       "      <td>Kitchen</td>\n",
       "      <td>Norpro 3080 Mini Measuring Spoons, 5 Piece Set</td>\n",
       "    </tr>\n",
       "    <tr>\n",
       "      <th>2</th>\n",
       "      <td>b848c565-1a0b-4810-9dfc-9a537cfedcbf</td>\n",
       "      <td>Jewelry</td>\n",
       "      <td>Accessory Accomplice Silvertone Guardian Angel...</td>\n",
       "    </tr>\n",
       "  </tbody>\n",
       "</table>\n",
       "</div>"
      ],
      "text/plain": [
       "                                     id category  \\\n",
       "0  d242fdc9-772b-4d97-94bb-dabdec22ebe7  Kitchen   \n",
       "1  05d4b845-1772-4f02-8dcc-b0ef4c1e06f8  Kitchen   \n",
       "2  b848c565-1a0b-4810-9dfc-9a537cfedcbf  Jewelry   \n",
       "\n",
       "                                       product_title  \n",
       "0  iCooker® Amazing Happy Birthday Candles + FREE...  \n",
       "1     Norpro 3080 Mini Measuring Spoons, 5 Piece Set  \n",
       "2  Accessory Accomplice Silvertone Guardian Angel...  "
      ]
     },
     "execution_count": 3,
     "metadata": {},
     "output_type": "execute_result"
    }
   ],
   "source": [
    "products_data.head(3)"
   ]
  },
  {
   "cell_type": "code",
   "execution_count": 4,
   "metadata": {},
   "outputs": [
    {
     "data": {
      "text/html": [
       "<div>\n",
       "<style scoped>\n",
       "    .dataframe tbody tr th:only-of-type {\n",
       "        vertical-align: middle;\n",
       "    }\n",
       "\n",
       "    .dataframe tbody tr th {\n",
       "        vertical-align: top;\n",
       "    }\n",
       "\n",
       "    .dataframe thead th {\n",
       "        text-align: right;\n",
       "    }\n",
       "</style>\n",
       "<table border=\"1\" class=\"dataframe\">\n",
       "  <thead>\n",
       "    <tr style=\"text-align: right;\">\n",
       "      <th></th>\n",
       "      <th>id</th>\n",
       "      <th>rating</th>\n",
       "      <th>review_text</th>\n",
       "    </tr>\n",
       "  </thead>\n",
       "  <tbody>\n",
       "    <tr>\n",
       "      <th>0</th>\n",
       "      <td>d242fdc9-772b-4d97-94bb-dabdec22ebe7</td>\n",
       "      <td>5</td>\n",
       "      <td>Worked like a charm! Everyone was amazed by th...</td>\n",
       "    </tr>\n",
       "    <tr>\n",
       "      <th>1</th>\n",
       "      <td>05d4b845-1772-4f02-8dcc-b0ef4c1e06f8</td>\n",
       "      <td>5</td>\n",
       "      <td>These are super fun!  Easy to figure out true ...</td>\n",
       "    </tr>\n",
       "    <tr>\n",
       "      <th>2</th>\n",
       "      <td>b848c565-1a0b-4810-9dfc-9a537cfedcbf</td>\n",
       "      <td>3</td>\n",
       "      <td>I liked it but it is too big.  Beautiful piece...</td>\n",
       "    </tr>\n",
       "  </tbody>\n",
       "</table>\n",
       "</div>"
      ],
      "text/plain": [
       "                                     id  rating  \\\n",
       "0  d242fdc9-772b-4d97-94bb-dabdec22ebe7       5   \n",
       "1  05d4b845-1772-4f02-8dcc-b0ef4c1e06f8       5   \n",
       "2  b848c565-1a0b-4810-9dfc-9a537cfedcbf       3   \n",
       "\n",
       "                                         review_text  \n",
       "0  Worked like a charm! Everyone was amazed by th...  \n",
       "1  These are super fun!  Easy to figure out true ...  \n",
       "2  I liked it but it is too big.  Beautiful piece...  "
      ]
     },
     "execution_count": 4,
     "metadata": {},
     "output_type": "execute_result"
    }
   ],
   "source": [
    "reviews_data.head(3)"
   ]
  },
  {
   "cell_type": "markdown",
   "metadata": {},
   "source": [
    "## Merge Tables"
   ]
  },
  {
   "cell_type": "markdown",
   "metadata": {},
   "source": [
    "As the instructions say, I'm asked to predict the product categories, Kitchen and Jewelry from the product title, rating and review text.\n",
    "\n",
    "As the features are distributed in different tables, I need to join them together on the product id."
   ]
  },
  {
   "cell_type": "code",
   "execution_count": 5,
   "metadata": {},
   "outputs": [],
   "source": [
    "# I use icecream for printing.\n",
    "from icecream import ic"
   ]
  },
  {
   "cell_type": "markdown",
   "metadata": {},
   "source": [
    "`pd.describe()` is useful for a first look at the data."
   ]
  },
  {
   "cell_type": "code",
   "execution_count": 6,
   "metadata": {},
   "outputs": [
    {
     "data": {
      "text/html": [
       "<div>\n",
       "<style scoped>\n",
       "    .dataframe tbody tr th:only-of-type {\n",
       "        vertical-align: middle;\n",
       "    }\n",
       "\n",
       "    .dataframe tbody tr th {\n",
       "        vertical-align: top;\n",
       "    }\n",
       "\n",
       "    .dataframe thead th {\n",
       "        text-align: right;\n",
       "    }\n",
       "</style>\n",
       "<table border=\"1\" class=\"dataframe\">\n",
       "  <thead>\n",
       "    <tr style=\"text-align: right;\">\n",
       "      <th></th>\n",
       "      <th>id</th>\n",
       "      <th>category</th>\n",
       "      <th>product_title</th>\n",
       "    </tr>\n",
       "  </thead>\n",
       "  <tbody>\n",
       "    <tr>\n",
       "      <th>count</th>\n",
       "      <td>1254</td>\n",
       "      <td>1254</td>\n",
       "      <td>1254</td>\n",
       "    </tr>\n",
       "    <tr>\n",
       "      <th>unique</th>\n",
       "      <td>1254</td>\n",
       "      <td>3</td>\n",
       "      <td>1227</td>\n",
       "    </tr>\n",
       "    <tr>\n",
       "      <th>top</th>\n",
       "      <td>d242fdc9-772b-4d97-94bb-dabdec22ebe7</td>\n",
       "      <td>Jewelry</td>\n",
       "      <td>BlenderBottle Classic Shaker Bottle</td>\n",
       "    </tr>\n",
       "    <tr>\n",
       "      <th>freq</th>\n",
       "      <td>1</td>\n",
       "      <td>635</td>\n",
       "      <td>3</td>\n",
       "    </tr>\n",
       "  </tbody>\n",
       "</table>\n",
       "</div>"
      ],
      "text/plain": [
       "                                          id category  \\\n",
       "count                                   1254     1254   \n",
       "unique                                  1254        3   \n",
       "top     d242fdc9-772b-4d97-94bb-dabdec22ebe7  Jewelry   \n",
       "freq                                       1      635   \n",
       "\n",
       "                              product_title  \n",
       "count                                  1254  \n",
       "unique                                 1227  \n",
       "top     BlenderBottle Classic Shaker Bottle  \n",
       "freq                                      3  "
      ]
     },
     "execution_count": 6,
     "metadata": {},
     "output_type": "execute_result"
    }
   ],
   "source": [
    "products_data.describe(include=\"all\")"
   ]
  },
  {
   "cell_type": "code",
   "execution_count": 7,
   "metadata": {},
   "outputs": [
    {
     "data": {
      "text/html": [
       "<div>\n",
       "<style scoped>\n",
       "    .dataframe tbody tr th:only-of-type {\n",
       "        vertical-align: middle;\n",
       "    }\n",
       "\n",
       "    .dataframe tbody tr th {\n",
       "        vertical-align: top;\n",
       "    }\n",
       "\n",
       "    .dataframe thead th {\n",
       "        text-align: right;\n",
       "    }\n",
       "</style>\n",
       "<table border=\"1\" class=\"dataframe\">\n",
       "  <thead>\n",
       "    <tr style=\"text-align: right;\">\n",
       "      <th></th>\n",
       "      <th>id</th>\n",
       "      <th>rating</th>\n",
       "      <th>review_text</th>\n",
       "    </tr>\n",
       "  </thead>\n",
       "  <tbody>\n",
       "    <tr>\n",
       "      <th>count</th>\n",
       "      <td>1254</td>\n",
       "      <td>1254.000000</td>\n",
       "      <td>1254</td>\n",
       "    </tr>\n",
       "    <tr>\n",
       "      <th>unique</th>\n",
       "      <td>1254</td>\n",
       "      <td>NaN</td>\n",
       "      <td>1228</td>\n",
       "    </tr>\n",
       "    <tr>\n",
       "      <th>top</th>\n",
       "      <td>d242fdc9-772b-4d97-94bb-dabdec22ebe7</td>\n",
       "      <td>NaN</td>\n",
       "      <td>Beautiful</td>\n",
       "    </tr>\n",
       "    <tr>\n",
       "      <th>freq</th>\n",
       "      <td>1</td>\n",
       "      <td>NaN</td>\n",
       "      <td>4</td>\n",
       "    </tr>\n",
       "    <tr>\n",
       "      <th>mean</th>\n",
       "      <td>NaN</td>\n",
       "      <td>4.235247</td>\n",
       "      <td>NaN</td>\n",
       "    </tr>\n",
       "    <tr>\n",
       "      <th>std</th>\n",
       "      <td>NaN</td>\n",
       "      <td>1.244173</td>\n",
       "      <td>NaN</td>\n",
       "    </tr>\n",
       "    <tr>\n",
       "      <th>min</th>\n",
       "      <td>NaN</td>\n",
       "      <td>1.000000</td>\n",
       "      <td>NaN</td>\n",
       "    </tr>\n",
       "    <tr>\n",
       "      <th>25%</th>\n",
       "      <td>NaN</td>\n",
       "      <td>4.000000</td>\n",
       "      <td>NaN</td>\n",
       "    </tr>\n",
       "    <tr>\n",
       "      <th>50%</th>\n",
       "      <td>NaN</td>\n",
       "      <td>5.000000</td>\n",
       "      <td>NaN</td>\n",
       "    </tr>\n",
       "    <tr>\n",
       "      <th>75%</th>\n",
       "      <td>NaN</td>\n",
       "      <td>5.000000</td>\n",
       "      <td>NaN</td>\n",
       "    </tr>\n",
       "    <tr>\n",
       "      <th>max</th>\n",
       "      <td>NaN</td>\n",
       "      <td>5.000000</td>\n",
       "      <td>NaN</td>\n",
       "    </tr>\n",
       "  </tbody>\n",
       "</table>\n",
       "</div>"
      ],
      "text/plain": [
       "                                          id       rating review_text\n",
       "count                                   1254  1254.000000        1254\n",
       "unique                                  1254          NaN        1228\n",
       "top     d242fdc9-772b-4d97-94bb-dabdec22ebe7          NaN   Beautiful\n",
       "freq                                       1          NaN           4\n",
       "mean                                     NaN     4.235247         NaN\n",
       "std                                      NaN     1.244173         NaN\n",
       "min                                      NaN     1.000000         NaN\n",
       "25%                                      NaN     4.000000         NaN\n",
       "50%                                      NaN     5.000000         NaN\n",
       "75%                                      NaN     5.000000         NaN\n",
       "max                                      NaN     5.000000         NaN"
      ]
     },
     "execution_count": 7,
     "metadata": {},
     "output_type": "execute_result"
    }
   ],
   "source": [
    "reviews_data.describe(include=\"all\")"
   ]
  },
  {
   "cell_type": "markdown",
   "metadata": {},
   "source": [
    "Based on the descriptions, I find that the ids are unique in each table and the number of unique ids is the same in each table. So I can use the id to join the tables after I make sure that all the ids set are the same in each table."
   ]
  },
  {
   "cell_type": "code",
   "execution_count": 8,
   "metadata": {},
   "outputs": [
    {
     "name": "stderr",
     "output_type": "stream",
     "text": [
      "ic| len(ids_in_both_data): 1254\n",
      "ic| len(ids_in_products_data_only): 0\n",
      "ic| len(ids_in_reviews_data_only): 0\n"
     ]
    },
    {
     "data": {
      "text/plain": [
       "0"
      ]
     },
     "execution_count": 8,
     "metadata": {},
     "output_type": "execute_result"
    }
   ],
   "source": [
    "ids_in_products_data = set(products_data[\"id\"].to_list())\n",
    "ids_in_reviews_data = set(reviews_data[\"id\"].to_list())\n",
    "ids_in_both_data = ids_in_products_data & ids_in_reviews_data\n",
    "ids_in_products_data_only = ids_in_products_data - ids_in_reviews_data\n",
    "ids_in_reviews_data_only = ids_in_reviews_data - ids_in_products_data\n",
    "ic(len(ids_in_both_data))\n",
    "ic(len(ids_in_products_data_only))\n",
    "ic(len(ids_in_reviews_data_only))"
   ]
  },
  {
   "cell_type": "markdown",
   "metadata": {},
   "source": [
    "Now, I make sure that I can join the two tables on the product id."
   ]
  },
  {
   "cell_type": "code",
   "execution_count": 9,
   "metadata": {},
   "outputs": [
    {
     "data": {
      "text/html": [
       "<div>\n",
       "<style scoped>\n",
       "    .dataframe tbody tr th:only-of-type {\n",
       "        vertical-align: middle;\n",
       "    }\n",
       "\n",
       "    .dataframe tbody tr th {\n",
       "        vertical-align: top;\n",
       "    }\n",
       "\n",
       "    .dataframe thead th {\n",
       "        text-align: right;\n",
       "    }\n",
       "</style>\n",
       "<table border=\"1\" class=\"dataframe\">\n",
       "  <thead>\n",
       "    <tr style=\"text-align: right;\">\n",
       "      <th></th>\n",
       "      <th>id</th>\n",
       "      <th>product_title</th>\n",
       "      <th>rating</th>\n",
       "      <th>review_text</th>\n",
       "      <th>category</th>\n",
       "    </tr>\n",
       "  </thead>\n",
       "  <tbody>\n",
       "    <tr>\n",
       "      <th>0</th>\n",
       "      <td>d242fdc9-772b-4d97-94bb-dabdec22ebe7</td>\n",
       "      <td>iCooker® Amazing Happy Birthday Candles + FREE...</td>\n",
       "      <td>5</td>\n",
       "      <td>Worked like a charm! Everyone was amazed by th...</td>\n",
       "      <td>Kitchen</td>\n",
       "    </tr>\n",
       "    <tr>\n",
       "      <th>1</th>\n",
       "      <td>05d4b845-1772-4f02-8dcc-b0ef4c1e06f8</td>\n",
       "      <td>Norpro 3080 Mini Measuring Spoons, 5 Piece Set</td>\n",
       "      <td>5</td>\n",
       "      <td>These are super fun!  Easy to figure out true ...</td>\n",
       "      <td>Kitchen</td>\n",
       "    </tr>\n",
       "    <tr>\n",
       "      <th>2</th>\n",
       "      <td>b848c565-1a0b-4810-9dfc-9a537cfedcbf</td>\n",
       "      <td>Accessory Accomplice Silvertone Guardian Angel...</td>\n",
       "      <td>3</td>\n",
       "      <td>I liked it but it is too big.  Beautiful piece...</td>\n",
       "      <td>Jewelry</td>\n",
       "    </tr>\n",
       "  </tbody>\n",
       "</table>\n",
       "</div>"
      ],
      "text/plain": [
       "                                     id  \\\n",
       "0  d242fdc9-772b-4d97-94bb-dabdec22ebe7   \n",
       "1  05d4b845-1772-4f02-8dcc-b0ef4c1e06f8   \n",
       "2  b848c565-1a0b-4810-9dfc-9a537cfedcbf   \n",
       "\n",
       "                                       product_title  rating  \\\n",
       "0  iCooker® Amazing Happy Birthday Candles + FREE...       5   \n",
       "1     Norpro 3080 Mini Measuring Spoons, 5 Piece Set       5   \n",
       "2  Accessory Accomplice Silvertone Guardian Angel...       3   \n",
       "\n",
       "                                         review_text category  \n",
       "0  Worked like a charm! Everyone was amazed by th...  Kitchen  \n",
       "1  These are super fun!  Easy to figure out true ...  Kitchen  \n",
       "2  I liked it but it is too big.  Beautiful piece...  Jewelry  "
      ]
     },
     "execution_count": 9,
     "metadata": {},
     "output_type": "execute_result"
    }
   ],
   "source": [
    "merged_data = pd.merge(products_data, reviews_data, on=\"id\").reset_index(drop=True)\n",
    "# reorder columns for better readability\n",
    "merged_data = merged_data[[\"id\", \"product_title\", \"rating\", \"review_text\", \"category\"]]\n",
    "merged_data.head(3)"
   ]
  },
  {
   "cell_type": "markdown",
   "metadata": {},
   "source": [
    "## data cleaning"
   ]
  },
  {
   "cell_type": "markdown",
   "metadata": {},
   "source": [
    "I continue to clean the `merged_data`."
   ]
  },
  {
   "cell_type": "code",
   "execution_count": 10,
   "metadata": {},
   "outputs": [
    {
     "data": {
      "text/html": [
       "<div>\n",
       "<style scoped>\n",
       "    .dataframe tbody tr th:only-of-type {\n",
       "        vertical-align: middle;\n",
       "    }\n",
       "\n",
       "    .dataframe tbody tr th {\n",
       "        vertical-align: top;\n",
       "    }\n",
       "\n",
       "    .dataframe thead th {\n",
       "        text-align: right;\n",
       "    }\n",
       "</style>\n",
       "<table border=\"1\" class=\"dataframe\">\n",
       "  <thead>\n",
       "    <tr style=\"text-align: right;\">\n",
       "      <th></th>\n",
       "      <th>id</th>\n",
       "      <th>product_title</th>\n",
       "      <th>rating</th>\n",
       "      <th>review_text</th>\n",
       "      <th>category</th>\n",
       "    </tr>\n",
       "  </thead>\n",
       "  <tbody>\n",
       "    <tr>\n",
       "      <th>count</th>\n",
       "      <td>1254</td>\n",
       "      <td>1254</td>\n",
       "      <td>1254.000000</td>\n",
       "      <td>1254</td>\n",
       "      <td>1254</td>\n",
       "    </tr>\n",
       "    <tr>\n",
       "      <th>unique</th>\n",
       "      <td>1254</td>\n",
       "      <td>1227</td>\n",
       "      <td>NaN</td>\n",
       "      <td>1228</td>\n",
       "      <td>3</td>\n",
       "    </tr>\n",
       "    <tr>\n",
       "      <th>top</th>\n",
       "      <td>d242fdc9-772b-4d97-94bb-dabdec22ebe7</td>\n",
       "      <td>BlenderBottle Classic Shaker Bottle</td>\n",
       "      <td>NaN</td>\n",
       "      <td>Beautiful</td>\n",
       "      <td>Jewelry</td>\n",
       "    </tr>\n",
       "    <tr>\n",
       "      <th>freq</th>\n",
       "      <td>1</td>\n",
       "      <td>3</td>\n",
       "      <td>NaN</td>\n",
       "      <td>4</td>\n",
       "      <td>635</td>\n",
       "    </tr>\n",
       "    <tr>\n",
       "      <th>mean</th>\n",
       "      <td>NaN</td>\n",
       "      <td>NaN</td>\n",
       "      <td>4.235247</td>\n",
       "      <td>NaN</td>\n",
       "      <td>NaN</td>\n",
       "    </tr>\n",
       "    <tr>\n",
       "      <th>std</th>\n",
       "      <td>NaN</td>\n",
       "      <td>NaN</td>\n",
       "      <td>1.244173</td>\n",
       "      <td>NaN</td>\n",
       "      <td>NaN</td>\n",
       "    </tr>\n",
       "    <tr>\n",
       "      <th>min</th>\n",
       "      <td>NaN</td>\n",
       "      <td>NaN</td>\n",
       "      <td>1.000000</td>\n",
       "      <td>NaN</td>\n",
       "      <td>NaN</td>\n",
       "    </tr>\n",
       "    <tr>\n",
       "      <th>25%</th>\n",
       "      <td>NaN</td>\n",
       "      <td>NaN</td>\n",
       "      <td>4.000000</td>\n",
       "      <td>NaN</td>\n",
       "      <td>NaN</td>\n",
       "    </tr>\n",
       "    <tr>\n",
       "      <th>50%</th>\n",
       "      <td>NaN</td>\n",
       "      <td>NaN</td>\n",
       "      <td>5.000000</td>\n",
       "      <td>NaN</td>\n",
       "      <td>NaN</td>\n",
       "    </tr>\n",
       "    <tr>\n",
       "      <th>75%</th>\n",
       "      <td>NaN</td>\n",
       "      <td>NaN</td>\n",
       "      <td>5.000000</td>\n",
       "      <td>NaN</td>\n",
       "      <td>NaN</td>\n",
       "    </tr>\n",
       "    <tr>\n",
       "      <th>max</th>\n",
       "      <td>NaN</td>\n",
       "      <td>NaN</td>\n",
       "      <td>5.000000</td>\n",
       "      <td>NaN</td>\n",
       "      <td>NaN</td>\n",
       "    </tr>\n",
       "  </tbody>\n",
       "</table>\n",
       "</div>"
      ],
      "text/plain": [
       "                                          id  \\\n",
       "count                                   1254   \n",
       "unique                                  1254   \n",
       "top     d242fdc9-772b-4d97-94bb-dabdec22ebe7   \n",
       "freq                                       1   \n",
       "mean                                     NaN   \n",
       "std                                      NaN   \n",
       "min                                      NaN   \n",
       "25%                                      NaN   \n",
       "50%                                      NaN   \n",
       "75%                                      NaN   \n",
       "max                                      NaN   \n",
       "\n",
       "                              product_title       rating review_text category  \n",
       "count                                  1254  1254.000000        1254     1254  \n",
       "unique                                 1227          NaN        1228        3  \n",
       "top     BlenderBottle Classic Shaker Bottle          NaN   Beautiful  Jewelry  \n",
       "freq                                      3          NaN           4      635  \n",
       "mean                                    NaN     4.235247         NaN      NaN  \n",
       "std                                     NaN     1.244173         NaN      NaN  \n",
       "min                                     NaN     1.000000         NaN      NaN  \n",
       "25%                                     NaN     4.000000         NaN      NaN  \n",
       "50%                                     NaN     5.000000         NaN      NaN  \n",
       "75%                                     NaN     5.000000         NaN      NaN  \n",
       "max                                     NaN     5.000000         NaN      NaN  "
      ]
     },
     "execution_count": 10,
     "metadata": {},
     "output_type": "execute_result"
    }
   ],
   "source": [
    "merged_data.describe(include=\"all\")"
   ]
  },
  {
   "cell_type": "markdown",
   "metadata": {},
   "source": [
    "Based on the description, I find that there are 3 unique values on the `category` column which is unexpected. So I print the unique values."
   ]
  },
  {
   "cell_type": "code",
   "execution_count": 11,
   "metadata": {},
   "outputs": [
    {
     "data": {
      "text/plain": [
       "category\n",
       "Jewelry    635\n",
       "Kitchen    485\n",
       "Ktchen     134\n",
       "Name: count, dtype: int64"
      ]
     },
     "execution_count": 11,
     "metadata": {},
     "output_type": "execute_result"
    }
   ],
   "source": [
    "merged_data[\"category\"].value_counts()"
   ]
  },
  {
   "cell_type": "markdown",
   "metadata": {},
   "source": [
    "Results show that there are 3 unique values: `Jewelry`, `Kitchen` and `Ktchen`. So I need to fix the typo."
   ]
  },
  {
   "cell_type": "code",
   "execution_count": 12,
   "metadata": {},
   "outputs": [
    {
     "data": {
      "text/plain": [
       "category\n",
       "Jewelry    635\n",
       "Kitchen    619\n",
       "Name: count, dtype: int64"
      ]
     },
     "execution_count": 12,
     "metadata": {},
     "output_type": "execute_result"
    }
   ],
   "source": [
    "merged_data[\"category\"] = merged_data[\"category\"].apply(lambda x: \"Kitchen\" if x == \"Ktchen\" else x)\n",
    "merged_data[\"category\"].value_counts()"
   ]
  },
  {
   "cell_type": "markdown",
   "metadata": {},
   "source": [
    "Following the same process, I continue to check other columns."
   ]
  },
  {
   "cell_type": "code",
   "execution_count": 13,
   "metadata": {},
   "outputs": [
    {
     "data": {
      "text/plain": [
       "rating\n",
       "5    811\n",
       "4    177\n",
       "3    107\n",
       "1     91\n",
       "2     68\n",
       "Name: count, dtype: int64"
      ]
     },
     "execution_count": 13,
     "metadata": {},
     "output_type": "execute_result"
    }
   ],
   "source": [
    "merged_data[\"rating\"].value_counts()"
   ]
  },
  {
   "cell_type": "markdown",
   "metadata": {},
   "source": [
    "The `rating` column has 5 unique values which is expected."
   ]
  },
  {
   "cell_type": "code",
   "execution_count": 14,
   "metadata": {},
   "outputs": [
    {
     "data": {
      "text/plain": [
       "0        79\n",
       "1       124\n",
       "2       127\n",
       "3        37\n",
       "4        73\n",
       "       ... \n",
       "1249     55\n",
       "1250     32\n",
       "1251    139\n",
       "1252    147\n",
       "1253    185\n",
       "Name: review_text, Length: 1254, dtype: int64"
      ]
     },
     "execution_count": 14,
     "metadata": {},
     "output_type": "execute_result"
    }
   ],
   "source": [
    "merged_data[\"review_text\"].apply(len)"
   ]
  },
  {
   "cell_type": "markdown",
   "metadata": {},
   "source": [
    "The `review_text` columns has some empty strings which need to be handled on the embedding step."
   ]
  },
  {
   "cell_type": "code",
   "execution_count": 15,
   "metadata": {},
   "outputs": [
    {
     "data": {
      "text/plain": [
       "0       172\n",
       "1        46\n",
       "2        84\n",
       "3        65\n",
       "4        89\n",
       "       ... \n",
       "1249     83\n",
       "1250     55\n",
       "1251     95\n",
       "1252     64\n",
       "1253     59\n",
       "Name: product_title, Length: 1254, dtype: int64"
      ]
     },
     "execution_count": 15,
     "metadata": {},
     "output_type": "execute_result"
    }
   ],
   "source": [
    "merged_data[\"product_title\"].apply(len)"
   ]
  },
  {
   "cell_type": "markdown",
   "metadata": {},
   "source": [
    "The `product_title` column has some empty strings which need to be handled on the embedding step."
   ]
  },
  {
   "cell_type": "markdown",
   "metadata": {},
   "source": [
    "## Save the cleaned data"
   ]
  },
  {
   "cell_type": "markdown",
   "metadata": {},
   "source": [
    "Now, I've finished the data cleaning step. I would prepare the data for the prediction task."
   ]
  },
  {
   "cell_type": "code",
   "execution_count": 16,
   "metadata": {},
   "outputs": [],
   "source": [
    "from sklearn.model_selection import train_test_split"
   ]
  },
  {
   "cell_type": "code",
   "execution_count": 17,
   "metadata": {},
   "outputs": [],
   "source": [
    "# I use 811 as the random seed for reproducibility. The ratio of train, validation and test set is 6:2:2.\n",
    "merged_data.sample(frac=1, random_state=811)\n",
    "\n",
    "train_data, test_data = train_test_split(merged_data, test_size=0.2, random_state=811)\n",
    "train_data, validation_data = train_test_split(train_data, test_size=0.25, random_state=811)"
   ]
  },
  {
   "cell_type": "markdown",
   "metadata": {},
   "source": [
    "After the splitting, I plot the distribution of the ratings in different sets to make sure that the splitting is correct."
   ]
  },
  {
   "cell_type": "code",
   "execution_count": 18,
   "metadata": {},
   "outputs": [],
   "source": [
    "from typing import List\n",
    "\n",
    "import matplotlib.pyplot as plt\n",
    "import numpy as np\n",
    "\n",
    "\n",
    "# This is a helper function for plotting the distribution of ratings.\n",
    "def plot_dist(\n",
    "    x_labels: List[str],\n",
    "    model_res_values: List[List[float]],\n",
    "    value_types: List[List[str]],\n",
    "    title: str,\n",
    "):\n",
    "    \"\"\"\n",
    "    Plot the distribution of ratings in each dataset.\n",
    "\n",
    "    :param x_labels: List of \n",
    "    :param model_res_values: List of lists of values for each model.\n",
    "    :param value_types: List of lists of value types for each model.\n",
    "    :param title: Title of the plot.\n",
    "    \"\"\"\n",
    "    fig, ax = plt.subplots()\n",
    "\n",
    "    # Initial bottom for the bars\n",
    "    bottoms = np.zeros(len(x_labels))\n",
    "\n",
    "    # All unique value types for legend mapping\n",
    "    all_value_types = set([val for sublist in value_types for val in sublist])\n",
    "    color_map = plt.cm.get_cmap(\n",
    "        \"viridis\", len(all_value_types)\n",
    "    )  # Using a colormap for different value types\n",
    "    type_to_color = {vtype: color_map(i) for i, vtype in enumerate(all_value_types)}\n",
    "\n",
    "    for model_idx, model_name in enumerate(x_labels):\n",
    "        for value_idx, (value_type, value) in enumerate(\n",
    "            zip(value_types[model_idx], model_res_values[model_idx])\n",
    "        ):\n",
    "            ax.bar(\n",
    "                model_name,\n",
    "                value,\n",
    "                bottom=bottoms[model_idx],\n",
    "                label=value_type,\n",
    "                color=type_to_color[value_type],\n",
    "            )\n",
    "            bottoms[model_idx] += value\n",
    "\n",
    "    # Adding labels and title\n",
    "    ax.set_ylabel(\"Percentage of ratings\")\n",
    "    ax.set_title(title)\n",
    "\n",
    "    # Create legend from color mapping\n",
    "    handles = [\n",
    "        plt.Rectangle((0, 0), 1, 1, color=type_to_color[vtype])\n",
    "        for vtype in all_value_types\n",
    "    ]\n",
    "    ax.legend(handles, all_value_types)\n",
    "    handles = [\n",
    "        plt.Rectangle((0, 0), 1, 1, color=type_to_color[vtype])\n",
    "        for vtype in all_value_types\n",
    "    ]\n",
    "    ax.legend(handles, all_value_types, bbox_to_anchor=(1.05, 0.7), loc=\"upper left\")\n",
    "\n",
    "    # Show the plot\n",
    "    plt.show()"
   ]
  },
  {
   "cell_type": "code",
   "execution_count": 19,
   "metadata": {},
   "outputs": [
    {
     "data": {
      "text/plain": [
       "rating\n",
       "1    0.067819\n",
       "2    0.059840\n",
       "3    0.087766\n",
       "4    0.139628\n",
       "5    0.644947\n",
       "Name: proportion, dtype: float64"
      ]
     },
     "execution_count": 19,
     "metadata": {},
     "output_type": "execute_result"
    }
   ],
   "source": [
    "train_data[\"rating\"].value_counts(normalize=True).sort_index()"
   ]
  },
  {
   "cell_type": "code",
   "execution_count": 20,
   "metadata": {},
   "outputs": [
    {
     "name": "stderr",
     "output_type": "stream",
     "text": [
      "C:\\Users\\Guangchen\\AppData\\Local\\Temp\\ipykernel_26852\\2139226709.py:29: MatplotlibDeprecationWarning: The get_cmap function was deprecated in Matplotlib 3.7 and will be removed two minor releases later. Use ``matplotlib.colormaps[name]`` or ``matplotlib.colormaps.get_cmap(obj)`` instead.\n",
      "  color_map = plt.cm.get_cmap(\n"
     ]
    },
    {
     "data": {
      "image/png": "[encoded data removed]",
      "text/plain": [
       "<Figure size 640x480 with 1 Axes>"
      ]
     },
     "metadata": {},
     "output_type": "display_data"
    }
   ],
   "source": [
    "plot_dist(\n",
    "    x_labels=[\"Train\", \"Validation\", \"Test\"],\n",
    "    model_res_values=[\n",
    "        train_data[\"rating\"].value_counts(normalize=True).sort_index().to_list(),\n",
    "        validation_data[\"rating\"].value_counts(normalize=True).sort_index().to_list(),\n",
    "        test_data[\"rating\"].value_counts(normalize=True).sort_index().to_list(),\n",
    "    ],\n",
    "    value_types=[\n",
    "        train_data[\"rating\"].value_counts().sort_index().index.to_list(),\n",
    "        validation_data[\"rating\"].value_counts().sort_index().index.to_list(),\n",
    "        test_data[\"rating\"].value_counts().sort_index().index.to_list(),\n",
    "    ],\n",
    "    title=\"Distribution of Ratings\",\n",
    ")"
   ]
  },
  {
   "cell_type": "code",
   "execution_count": 21,
   "metadata": {},
   "outputs": [
    {
     "name": "stderr",
     "output_type": "stream",
     "text": [
      "C:\\Users\\Guangchen\\AppData\\Local\\Temp\\ipykernel_26852\\2139226709.py:29: MatplotlibDeprecationWarning: The get_cmap function was deprecated in Matplotlib 3.7 and will be removed two minor releases later. Use ``matplotlib.colormaps[name]`` or ``matplotlib.colormaps.get_cmap(obj)`` instead.\n",
      "  color_map = plt.cm.get_cmap(\n"
     ]
    },
    {
     "data": {
      "image/png": "[encoded data removed]",
      "text/plain": [
       "<Figure size 640x480 with 1 Axes>"
      ]
     },
     "metadata": {},
     "output_type": "display_data"
    }
   ],
   "source": [
    "plot_dist(\n",
    "    x_labels=[\"Train\", \"Validation\", \"Test\"],\n",
    "    model_res_values=[\n",
    "        train_data[\"category\"].value_counts(normalize=True).sort_index().to_list(),\n",
    "        validation_data[\"category\"].value_counts(normalize=True).sort_index().to_list(),\n",
    "        test_data[\"category\"].value_counts(normalize=True).sort_index().to_list(),\n",
    "    ],\n",
    "    value_types=[\n",
    "        train_data[\"category\"].value_counts().sort_index().index.to_list(),\n",
    "        validation_data[\"category\"].value_counts().sort_index().index.to_list(),\n",
    "        test_data[\"category\"].value_counts().sort_index().index.to_list(),\n",
    "    ],\n",
    "    title=\"Distribution of categorys\",\n",
    ")"
   ]
  },
  {
   "cell_type": "markdown",
   "metadata": {},
   "source": [
    "## Convert to PyTorch Dataset"
   ]
  },
  {
   "cell_type": "markdown",
   "metadata": {},
   "source": [
    "Now, I've finished the data cleaning step. I would prepare the data for the prediction task."
   ]
  },
  {
   "cell_type": "code",
   "execution_count": 22,
   "metadata": {},
   "outputs": [],
   "source": [
    "# To make it simple, I use the default TfidfVectorizer in sklearn.\n",
    "from sklearn.feature_extraction.text import TfidfVectorizer"
   ]
  },
  {
   "cell_type": "code",
   "execution_count": 23,
   "metadata": {},
   "outputs": [],
   "source": [
    "# This function is used to encode the text data into vector\n",
    "def encode_text(train_texts, validation_texts, test_texts):\n",
    "    # This function is used to encode the text data into vector\n",
    "    tfidf_vectorizer = TfidfVectorizer()\n",
    "    # To avoid data leakage, I fit the vectorizer on the training data only.\n",
    "    tfidf_vectorizer.fit(train_texts)\n",
    "    \n",
    "    train_vector = tfidf_vectorizer.transform(train_texts).toarray().tolist()\n",
    "    validation_vector = tfidf_vectorizer.transform(validation_texts).toarray().tolist()\n",
    "    test_vector = tfidf_vectorizer.transform(test_texts).toarray().tolist()\n",
    "    return train_vector, validation_vector, test_vector\n",
    "\n",
    "train_product_title = train_data[\"product_title\"].values.tolist()\n",
    "validation_product_title = validation_data[\"product_title\"].values.tolist()\n",
    "test_product_title = test_data[\"product_title\"].values.tolist()\n",
    "\n",
    "train_product_vector, validation_product_vector, test_product_vector = encode_text(\n",
    "    train_product_title, validation_product_title, test_product_title\n",
    ")\n",
    "\n",
    "train_data[\"product_title_vector\"] = train_product_vector\n",
    "validation_data[\"product_title_vector\"] = validation_product_vector\n",
    "test_data[\"product_title_vector\"] = test_product_vector\n",
    "\n",
    "train_review_text = train_data[\"review_text\"].values.tolist()\n",
    "validation_review_text = validation_data[\"review_text\"].values.tolist()\n",
    "test_review_text = test_data[\"review_text\"].values.tolist()\n",
    "\n",
    "train_review_vector, validation_review_vector, test_review_vector = encode_text(\n",
    "    train_review_text, validation_review_text, test_review_text\n",
    ")\n",
    "\n",
    "train_data[\"review_text_vector\"] = train_review_vector\n",
    "validation_data[\"review_text_vector\"] = validation_review_vector\n",
    "test_data[\"review_text_vector\"] = test_review_vector"
   ]
  },
  {
   "cell_type": "code",
   "execution_count": 24,
   "metadata": {},
   "outputs": [],
   "source": [
    "# For the category feature, I use the OneHotEncoder in sklearn.\n",
    "from sklearn.preprocessing import OneHotEncoder\n",
    "\n",
    "def encode_category(train_category, validation_category, test_category):\n",
    "    # This function is used to encode the category feature into vector\n",
    "    onehot_encoder = OneHotEncoder(sparse_output=False)\n",
    "    # To avoid data leakage, I fit the encoder on the training data only.\n",
    "    onehot_encoder.fit(train_category)\n",
    "    \n",
    "    train_vector = onehot_encoder.transform(train_category)\n",
    "    validation_vector = onehot_encoder.transform(validation_category)\n",
    "    test_vector = onehot_encoder.transform(test_category)\n",
    "    return train_vector, validation_vector, test_vector\n",
    "\n",
    "train_rating = train_data[\"rating\"].values.reshape(-1, 1)\n",
    "validation_rating = validation_data[\"rating\"].values.reshape(-1, 1)\n",
    "test_rating = test_data[\"rating\"].values.reshape(-1, 1)\n",
    "\n",
    "train_rating_vector, validation_rating_vector, test_rating_vector = encode_category(\n",
    "    train_rating, validation_rating, test_rating\n",
    ")\n",
    "\n",
    "train_data[\"rating_vector\"] = train_rating_vector.tolist()\n",
    "validation_data[\"rating_vector\"] = validation_rating_vector.tolist()\n",
    "test_data[\"rating_vector\"] = test_rating_vector.tolist()"
   ]
  },
  {
   "cell_type": "code",
   "execution_count": 25,
   "metadata": {},
   "outputs": [],
   "source": [
    "# The target feature is the category. I use 0 for \"Kitchen\" and 1 for \"Jewelry\".\n",
    "train_data[\"binary_category\"] = train_data[\"category\"].apply(lambda x: 0 if x == \"Kitchen\" else 1)\n",
    "validation_data[\"binary_category\"] = validation_data[\"category\"].apply(lambda x: 0 if x == \"Kitchen\" else 1)\n",
    "test_data[\"binary_category\"] = test_data[\"category\"].apply(lambda x: 0 if x == \"Kitchen\" else 1)"
   ]
  },
  {
   "cell_type": "code",
   "execution_count": 26,
   "metadata": {},
   "outputs": [],
   "source": [
    "# The input features are the product title, review text and rating.\n",
    "train_data[\"input_embedding\"] = train_data.apply(\n",
    "    lambda x: x[\"product_title_vector\"] + x[\"review_text_vector\"] + x[\"rating_vector\"], axis=1\n",
    ")\n",
    "validation_data[\"input_embedding\"] = validation_data.apply(\n",
    "    lambda x: x[\"product_title_vector\"] + x[\"review_text_vector\"] + x[\"rating_vector\"], axis=1\n",
    ")\n",
    "test_data[\"input_embedding\"] = test_data.apply(\n",
    "    lambda x: x[\"product_title_vector\"] + x[\"review_text_vector\"] + x[\"rating_vector\"], axis=1\n",
    ")"
   ]
  },
  {
   "cell_type": "code",
   "execution_count": 27,
   "metadata": {},
   "outputs": [
    {
     "data": {
      "text/html": [
       "<div>\n",
       "<style scoped>\n",
       "    .dataframe tbody tr th:only-of-type {\n",
       "        vertical-align: middle;\n",
       "    }\n",
       "\n",
       "    .dataframe tbody tr th {\n",
       "        vertical-align: top;\n",
       "    }\n",
       "\n",
       "    .dataframe thead th {\n",
       "        text-align: right;\n",
       "    }\n",
       "</style>\n",
       "<table border=\"1\" class=\"dataframe\">\n",
       "  <thead>\n",
       "    <tr style=\"text-align: right;\">\n",
       "      <th></th>\n",
       "      <th>id</th>\n",
       "      <th>product_title</th>\n",
       "      <th>rating</th>\n",
       "      <th>review_text</th>\n",
       "      <th>category</th>\n",
       "      <th>product_title_vector</th>\n",
       "      <th>review_text_vector</th>\n",
       "      <th>rating_vector</th>\n",
       "      <th>binary_category</th>\n",
       "      <th>input_embedding</th>\n",
       "    </tr>\n",
       "  </thead>\n",
       "  <tbody>\n",
       "    <tr>\n",
       "      <th>775</th>\n",
       "      <td>d9b4e6d2-6aad-4cc6-9946-25d028dd2c2f</td>\n",
       "      <td>King Will DUO Unisex 6mm Classic Rose Gold Dom...</td>\n",
       "      <td>5</td>\n",
       "      <td>quality ring good price</td>\n",
       "      <td>Jewelry</td>\n",
       "      <td>[0.0, 0.0, 0.0, 0.0, 0.0, 0.0, 0.0, 0.0, 0.0, ...</td>\n",
       "      <td>[0.0, 0.0, 0.0, 0.0, 0.0, 0.0, 0.0, 0.0, 0.0, ...</td>\n",
       "      <td>[0.0, 0.0, 0.0, 0.0, 1.0]</td>\n",
       "      <td>1</td>\n",
       "      <td>[0.0, 0.0, 0.0, 0.0, 0.0, 0.0, 0.0, 0.0, 0.0, ...</td>\n",
       "    </tr>\n",
       "    <tr>\n",
       "      <th>1100</th>\n",
       "      <td>cc367014-35f1-4358-becb-e8ca7957cb23</td>\n",
       "      <td>48 Pack of Reusable Silicone Baking Cups / Cup...</td>\n",
       "      <td>4</td>\n",
       "      <td>slightly smaller than standard size, they wobb...</td>\n",
       "      <td>Kitchen</td>\n",
       "      <td>[0.0, 0.0, 0.0, 0.0, 0.0, 0.0, 0.0, 0.0, 0.0, ...</td>\n",
       "      <td>[0.0, 0.0, 0.0, 0.0, 0.0, 0.0, 0.0, 0.0, 0.0, ...</td>\n",
       "      <td>[0.0, 0.0, 0.0, 1.0, 0.0]</td>\n",
       "      <td>0</td>\n",
       "      <td>[0.0, 0.0, 0.0, 0.0, 0.0, 0.0, 0.0, 0.0, 0.0, ...</td>\n",
       "    </tr>\n",
       "    <tr>\n",
       "      <th>1007</th>\n",
       "      <td>a2364dad-c4a9-4740-b033-575ac28ca327</td>\n",
       "      <td>EatSmart Precision Pro Digital Kitchen Scale</td>\n",
       "      <td>1</td>\n",
       "      <td>I've had this scale for about 6 months and it'...</td>\n",
       "      <td>Kitchen</td>\n",
       "      <td>[0.0, 0.0, 0.0, 0.0, 0.0, 0.0, 0.0, 0.0, 0.0, ...</td>\n",
       "      <td>[0.0, 0.0, 0.0, 0.0, 0.0, 0.0, 0.0, 0.0, 0.0, ...</td>\n",
       "      <td>[1.0, 0.0, 0.0, 0.0, 0.0]</td>\n",
       "      <td>0</td>\n",
       "      <td>[0.0, 0.0, 0.0, 0.0, 0.0, 0.0, 0.0, 0.0, 0.0, ...</td>\n",
       "    </tr>\n",
       "  </tbody>\n",
       "</table>\n",
       "</div>"
      ],
      "text/plain": [
       "                                        id  \\\n",
       "775   d9b4e6d2-6aad-4cc6-9946-25d028dd2c2f   \n",
       "1100  cc367014-35f1-4358-becb-e8ca7957cb23   \n",
       "1007  a2364dad-c4a9-4740-b033-575ac28ca327   \n",
       "\n",
       "                                          product_title  rating  \\\n",
       "775   King Will DUO Unisex 6mm Classic Rose Gold Dom...       5   \n",
       "1100  48 Pack of Reusable Silicone Baking Cups / Cup...       4   \n",
       "1007       EatSmart Precision Pro Digital Kitchen Scale       1   \n",
       "\n",
       "                                            review_text category  \\\n",
       "775                             quality ring good price  Jewelry   \n",
       "1100  slightly smaller than standard size, they wobb...  Kitchen   \n",
       "1007  I've had this scale for about 6 months and it'...  Kitchen   \n",
       "\n",
       "                                   product_title_vector  \\\n",
       "775   [0.0, 0.0, 0.0, 0.0, 0.0, 0.0, 0.0, 0.0, 0.0, ...   \n",
       "1100  [0.0, 0.0, 0.0, 0.0, 0.0, 0.0, 0.0, 0.0, 0.0, ...   \n",
       "1007  [0.0, 0.0, 0.0, 0.0, 0.0, 0.0, 0.0, 0.0, 0.0, ...   \n",
       "\n",
       "                                     review_text_vector  \\\n",
       "775   [0.0, 0.0, 0.0, 0.0, 0.0, 0.0, 0.0, 0.0, 0.0, ...   \n",
       "1100  [0.0, 0.0, 0.0, 0.0, 0.0, 0.0, 0.0, 0.0, 0.0, ...   \n",
       "1007  [0.0, 0.0, 0.0, 0.0, 0.0, 0.0, 0.0, 0.0, 0.0, ...   \n",
       "\n",
       "                  rating_vector  binary_category  \\\n",
       "775   [0.0, 0.0, 0.0, 0.0, 1.0]                1   \n",
       "1100  [0.0, 0.0, 0.0, 1.0, 0.0]                0   \n",
       "1007  [1.0, 0.0, 0.0, 0.0, 0.0]                0   \n",
       "\n",
       "                                        input_embedding  \n",
       "775   [0.0, 0.0, 0.0, 0.0, 0.0, 0.0, 0.0, 0.0, 0.0, ...  \n",
       "1100  [0.0, 0.0, 0.0, 0.0, 0.0, 0.0, 0.0, 0.0, 0.0, ...  \n",
       "1007  [0.0, 0.0, 0.0, 0.0, 0.0, 0.0, 0.0, 0.0, 0.0, ...  "
      ]
     },
     "execution_count": 27,
     "metadata": {},
     "output_type": "execute_result"
    }
   ],
   "source": [
    "train_data.head(3)"
   ]
  },
  {
   "cell_type": "markdown",
   "metadata": {},
   "source": [
    "Now, I can start to build the PyTorch Dataset."
   ]
  },
  {
   "cell_type": "code",
   "execution_count": 28,
   "metadata": {},
   "outputs": [],
   "source": [
    "import torch\n",
    "import torch.nn as nn\n",
    "from torch.utils.data import DataLoader, TensorDataset\n",
    "\n",
    "X_train = torch.tensor(train_data[\"input_embedding\"].values.tolist(), dtype=torch.float)\n",
    "y_train = torch.tensor(train_data[\"binary_category\"].values.tolist(), dtype=torch.float)\n",
    "X_validation = torch.tensor(validation_data[\"input_embedding\"].values.tolist(), dtype=torch.float)\n",
    "y_validation = torch.tensor(validation_data[\"binary_category\"].values.tolist(), dtype=torch.float)\n",
    "X_test = torch.tensor(test_data[\"input_embedding\"].values.tolist(), dtype=torch.float)\n",
    "y_test = torch.tensor(test_data[\"binary_category\"].values.tolist(), dtype=torch.float)\n",
    "\n",
    "\n",
    "train_dataset = TensorDataset(X_train, y_train)\n",
    "validation_dataset = TensorDataset(X_validation, y_validation)\n",
    "test_dataset = TensorDataset(X_test, y_test)\n",
    "\n",
    "# save the datasets\n",
    "torch.save(train_dataset, \"./pt_data/train_dataset.pt\")\n",
    "torch.save(validation_dataset, \"./pt_data/validation_dataset.pt\")\n",
    "torch.save(test_dataset, \"./pt_data/test_dataset.pt\")"
   ]
  },
  {
   "cell_type": "markdown",
   "metadata": {},
   "source": [
    "## Train a simple logistic regression model"
   ]
  },
  {
   "cell_type": "markdown",
   "metadata": {},
   "source": [
    "Although I provide the .py file for reproducing the results. I still want to run it in the notebook to show the results in a straightforward way."
   ]
  },
  {
   "cell_type": "code",
   "execution_count": 29,
   "metadata": {},
   "outputs": [],
   "source": [
    "from tqdm import tqdm\n",
    "\n",
    "class LogisticRegressionModel(nn.Module):\n",
    "    def __init__(self, input_dim):\n",
    "        super(LogisticRegressionModel, self).__init__()\n",
    "        self.linear = nn.Linear(input_dim, 1)\n",
    "\n",
    "    def forward(self, x):\n",
    "        outputs = torch.sigmoid(self.linear(x))\n",
    "        return outputs\n",
    "\n",
    "\n",
    "def run_epoch(dataloader, model, loss_function, optimizer=None, is_train=True):\n",
    "    epoch_loss = 0\n",
    "    epoch_acc = 0\n",
    "    if is_train:\n",
    "        model.train()\n",
    "    else:\n",
    "        model.eval()\n",
    "\n",
    "    for batch in dataloader:\n",
    "        X, y = batch\n",
    "        with torch.set_grad_enabled(is_train):\n",
    "            outputs = model(X)\n",
    "            loss = loss_function(outputs, y.unsqueeze(1))\n",
    "            acc = ((outputs > 0.5).float() == y.unsqueeze(1)).float().mean()\n",
    "\n",
    "            if is_train:\n",
    "                optimizer.zero_grad()\n",
    "                loss.backward()\n",
    "                optimizer.step()\n",
    "\n",
    "        epoch_loss += loss.item()\n",
    "        epoch_acc += acc.item()\n",
    "\n",
    "    return epoch_loss / len(dataloader), epoch_acc / len(dataloader)"
   ]
  },
  {
   "cell_type": "code",
   "execution_count": 30,
   "metadata": {},
   "outputs": [
    {
     "name": "stderr",
     "output_type": "stream",
     "text": [
      "100%|██████████| 100/100 [00:01<00:00, 59.28it/s]"
     ]
    },
    {
     "name": "stdout",
     "output_type": "stream",
     "text": [
      "Best validation accuracy: 0.972021073102951\n",
      "Test accuracy: 0.9643673896789551\n"
     ]
    },
    {
     "name": "stderr",
     "output_type": "stream",
     "text": [
      "\n"
     ]
    }
   ],
   "source": [
    "num_epochs = 100\n",
    "batch_size = 128\n",
    "learning_rate = 1e-3\n",
    "model = LogisticRegressionModel(input_dim=train_dataset[0][0].shape[0])\n",
    "loss_function = nn.BCELoss()\n",
    "optimizer = torch.optim.Adam(model.parameters(), lr=learning_rate)\n",
    "train_dataloader = DataLoader(train_dataset, batch_size=batch_size, shuffle=True)\n",
    "validation_dataloader = DataLoader(validation_dataset, batch_size=batch_size, shuffle=False)\n",
    "test_dataloader = DataLoader(test_dataset, batch_size=batch_size, shuffle=False)\n",
    "\n",
    "train_loss_list = []\n",
    "train_acc_list = []\n",
    "validation_loss_list = []\n",
    "validation_acc_list = []\n",
    "test_loss_list = []\n",
    "test_acc_list = []\n",
    "\n",
    "\n",
    "for epoch in tqdm(range(num_epochs)):\n",
    "    train_loss, train_acc = run_epoch(train_dataloader, model, loss_function, optimizer, is_train=True)\n",
    "    val_loss, val_acc = run_epoch(validation_dataloader, model, loss_function, is_train=False)\n",
    "    test_loss, test_acc = run_epoch(test_dataloader, model, loss_function, is_train=False)\n",
    "\n",
    "    train_loss_list.append(train_loss)\n",
    "    train_acc_list.append(train_acc)\n",
    "    validation_loss_list.append(val_loss)\n",
    "    validation_acc_list.append(val_acc)\n",
    "    test_loss_list.append(test_loss)\n",
    "    test_acc_list.append(test_acc)\n",
    "\n",
    "print(f\"Best validation accuracy: {max(validation_acc_list)}\")\n",
    "print(f\"Test accuracy: {test_acc_list[validation_acc_list.index(max(validation_acc_list))]}\")"
   ]
  },
  {
   "cell_type": "code",
   "execution_count": 31,
   "metadata": {},
   "outputs": [
    {
     "data": {
      "image/png": "[encoded data removed]",
      "text/plain": [
       "<Figure size 1000x400 with 2 Axes>"
      ]
     },
     "metadata": {},
     "output_type": "display_data"
    }
   ],
   "source": [
    "fig, ax = plt.subplots(1, 2, figsize=(10, 4))\n",
    "\n",
    "ax[0].plot(train_loss_list, label=\"Train\")\n",
    "ax[0].plot(validation_loss_list, label=\"Validation\")\n",
    "ax[0].plot(test_loss_list, label=\"Test\")\n",
    "ax[0].set_title(\"Loss\")\n",
    "ax[0].set_xlabel(\"Epoch\")\n",
    "ax[0].set_ylabel(\"Loss\")\n",
    "ax[0].legend()\n",
    "\n",
    "\n",
    "ax[1].plot(train_acc_list, label=\"Train\")\n",
    "ax[1].plot(validation_acc_list, label=\"Validation\")\n",
    "ax[1].plot(test_acc_list, label=\"Test\")\n",
    "ax[1].set_title(\"Accuracy\")\n",
    "ax[1].set_xlabel(\"Epoch\")\n",
    "ax[1].set_ylabel(\"Accuracy\")\n",
    "ax[1].legend()\n",
    "\n",
    "plt.show()"
   ]
  }
 ],
 "metadata": {
  "kernelspec": {
   "display_name": "torchm1",
   "language": "python",
   "name": "python3"
  },
  "language_info": {
   "codemirror_mode": {
    "name": "ipython",
    "version": 3
   },
   "file_extension": ".py",
   "mimetype": "text/x-python",
   "name": "python",
   "nbconvert_exporter": "python",
   "pygments_lexer": "ipython3",
   "version": "3.10.11"
  }
 },
 "nbformat": 4,
 "nbformat_minor": 2
}
